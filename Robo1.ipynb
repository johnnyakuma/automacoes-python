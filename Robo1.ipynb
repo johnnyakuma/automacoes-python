{
 "cells": [
  {
   "cell_type": "code",
   "execution_count": 1,
   "id": "11d85fac",
   "metadata": {
    "scrolled": true
   },
   "outputs": [
    {
     "name": "stdout",
     "output_type": "stream",
     "text": [
      "Requirement already satisfied: pyautogui in c:\\users\\johnn\\anaconda3\\lib\\site-packages (0.9.54)\n",
      "Requirement already satisfied: pymsgbox in c:\\users\\johnn\\anaconda3\\lib\\site-packages (from pyautogui) (1.0.9)\n",
      "Requirement already satisfied: pytweening>=1.0.4 in c:\\users\\johnn\\anaconda3\\lib\\site-packages (from pyautogui) (1.0.7)\n",
      "Requirement already satisfied: pyscreeze>=0.1.21 in c:\\users\\johnn\\anaconda3\\lib\\site-packages (from pyautogui) (0.1.30)\n",
      "Requirement already satisfied: pygetwindow>=0.0.5 in c:\\users\\johnn\\anaconda3\\lib\\site-packages (from pyautogui) (0.0.9)\n",
      "Requirement already satisfied: mouseinfo in c:\\users\\johnn\\anaconda3\\lib\\site-packages (from pyautogui) (0.1.3)\n",
      "Requirement already satisfied: pyrect in c:\\users\\johnn\\anaconda3\\lib\\site-packages (from pygetwindow>=0.0.5->pyautogui) (0.2.0)\n",
      "Requirement already satisfied: Pillow>=9.3.0 in c:\\users\\johnn\\anaconda3\\lib\\site-packages (from pyscreeze>=0.1.21->pyautogui) (9.4.0)\n",
      "Requirement already satisfied: pyperclip in c:\\users\\johnn\\anaconda3\\lib\\site-packages (from mouseinfo->pyautogui) (1.8.2)\n"
     ]
    }
   ],
   "source": [
    "!pip install pyautogui"
   ]
  },
  {
   "cell_type": "code",
   "execution_count": 10,
   "id": "c3e7c402",
   "metadata": {},
   "outputs": [
    {
     "name": "stdout",
     "output_type": "stream",
     "text": [
      "Point(x=292, y=205)\n"
     ]
    },
    {
     "data": {
      "text/plain": [
       "'\\nposicaoMouse.moveTo()\\nposicaoMouse.click()\\n'"
      ]
     },
     "execution_count": 10,
     "metadata": {},
     "output_type": "execute_result"
    }
   ],
   "source": [
    "#Encontrar Posicao mouse\n",
    "\n",
    "import pyautogui as posicaoMouse\n",
    "\n",
    "posicaoMouse.sleep(4)\n",
    "print(posicaoMouse.position())\n",
    "'''\n",
    "posicaoMouse.moveTo()\n",
    "posicaoMouse.click()\n",
    "'''\n"
   ]
  },
  {
   "cell_type": "code",
   "execution_count": 9,
   "id": "0319eb81",
   "metadata": {},
   "outputs": [],
   "source": [
    "import pyautogui as posicaoMouse\n",
    "\n",
    "posicaoMouse.sleep(2)\n",
    "#print(posicaoMouse.position())\n",
    "\n",
    "\n",
    "posicaoMouse.moveTo(x=30, y=1066)\n",
    "posicaoMouse.click(x=30, y=1066)\n",
    "\n",
    "posicaoMouse.typewrite('excel')\n",
    "\n",
    "posicaoMouse.sleep(2)\n",
    "posicaoMouse.moveTo(x=100, y=489)\n",
    "posicaoMouse.click(x=100, y=489)"
   ]
  },
  {
   "cell_type": "code",
   "execution_count": 44,
   "id": "f9d1ea54",
   "metadata": {},
   "outputs": [
    {
     "data": {
      "text/plain": [
       "'OK'"
      ]
     },
     "execution_count": 44,
     "metadata": {},
     "output_type": "execute_result"
    }
   ],
   "source": [
    "import pyautogui as abrirChrome\n",
    "\n",
    "abrirChrome.alert('Aguarde o o robo finalizar a automação')\n",
    "\n",
    "posicaoMouse.sleep(2)\n",
    "#print(posicaoMouse.position())\n",
    "\n",
    "\n",
    "abrirChrome.moveTo(x=30, y=1066)\n",
    "abrirChrome.click(x=30, y=1066)\n",
    "\n",
    "abrirChrome.typewrite('Chrome')\n",
    "\n",
    "abrirChrome.sleep(2)\n",
    "abrirChrome.moveTo(x=100, y=489)\n",
    "abrirChrome.click(x=100, y=489)\n",
    "\n",
    "abrirChrome.sleep(2)\n",
    "\n",
    "abrirChrome.moveTo(x=402, y=67)\n",
    "abrirChrome.click(x=402, y=67)\n",
    "\n",
    "abrirChrome.sleep(2)\n",
    "abrirChrome.doubleClick()\n",
    "\n",
    "abrirChrome.typewrite('https://www.google.com.br/')\n",
    "abrirChrome.press('enter')\n",
    "abrirChrome.sleep(2)\n",
    "\n",
    "abrirChrome.moveTo(x=793, y=521)\n",
    "abrirChrome.click(x=793, y=521)\n",
    "\n",
    "abrirChrome.typewrite('Dolar hoje')\n",
    "abrirChrome.press('enter')\n",
    "\n",
    "abrirChrome.alert('Tarefa concluida com sucesso!')"
   ]
  },
  {
   "cell_type": "code",
   "execution_count": 48,
   "id": "8de2f7f0",
   "metadata": {},
   "outputs": [],
   "source": [
    "import pyautogui as abrirNotepad\n",
    "\n",
    "tempo_Tecla = 0.1\n",
    "\n",
    "\n",
    "abrirNotepad.hotkey('win','r')\n",
    "abrirNotepad.sleep(2)\n",
    "abrirNotepad.moveTo(x=199, y=922)\n",
    "abrirNotepad.click(x=199, y=922)\n",
    "abrirNotepad.sleep(2)\n",
    "\n",
    "abrirNotepad.doubleClick()\n",
    "abrirNotepad.press('backspace')\n",
    "abrirNotepad.sleep(2)\n",
    "abrirNotepad.typewrite('notepad')\n",
    "abrirNotepad.press('enter')\n",
    "\n",
    "\n",
    "abrirNotepad.sleep(2)\n",
    "abrirNotepad.typewrite('notepad',interval=tempo_Tecla)\n",
    "\n",
    "abrirNotepad.sleep(2)\n",
    "\n",
    "fecharJanelaAtiva = abrirNotepad.getActiveWindow()\n",
    "\n",
    "fecharJanelaAtiva.close()"
   ]
  },
  {
   "cell_type": "code",
   "execution_count": 16,
   "id": "f5491c33",
   "metadata": {},
   "outputs": [
    {
     "name": "stdout",
     "output_type": "stream",
     "text": [
      "escolheu excel\n"
     ]
    },
    {
     "data": {
      "text/plain": [
       "'OK'"
      ]
     },
     "execution_count": 16,
     "metadata": {},
     "output_type": "execute_result"
    }
   ],
   "source": [
    "import pyautogui\n",
    "import pyautogui as escolha_opcao\n",
    "\n",
    "tempo_tecla = 0.1\n",
    "\n",
    "opcao = pyautogui.confirm('clique no botão desejado', buttons = ['Excel', 'Word', 'Notepad'])\n",
    "\n",
    "\n",
    "if opcao == \"Excel\":\n",
    "    print('escolheu excel')\n",
    "    escolha_opcao.hotkey('win','r')\n",
    "    escolha_opcao.sleep(2)\n",
    "    escolha_opcao.typewrite('Excel')\n",
    "    escolha_opcao.press('enter')\n",
    "    escolha_opcao.moveTo(x=292, y=205)\n",
    "    escolha_opcao.sleep(2)\n",
    "    escolha_opcao.click(x=292, y=205)\n",
    "    escolha_opcao.typewrite('voce escolheu o Excel', interval=tempo_tecla)\n",
    "    \n",
    "elif opcao == \"Word\":\n",
    "    print('escolheu word')\n",
    "    escolha_opcao.hotkey('win','r')\n",
    "    escolha_opcao.sleep(2)\n",
    "    escolha_opcao.typewrite('winword')\n",
    "    escolha_opcao.press('enter')\n",
    "    escolha_opcao.moveTo(x=292, y=205)\n",
    "    escolha_opcao.sleep(2)\n",
    "    escolha_opcao.click(x=292, y=205)\n",
    "    escolha_opcao.typewrite('voce escolheu o Word', interval=tempo_tecla)\n",
    "    \n",
    "elif opcao == \"Notepad\":\n",
    "    print('escolheu notepad')\n",
    "    escolha_opcao.hotkey('win','r')\n",
    "    escolha_opcao.sleep(2)\n",
    "    escolha_opcao.typewrite('Notepad')\n",
    "    escolha_opcao.press('enter')\n",
    "    escolha_opcao.sleep(2)\n",
    "    escolha_opcao.typewrite('voce escolheu o Notepad', interval=tempo_tecla)\n",
    "\n",
    "    \n",
    "pyautogui.alert('Tarefa finalizada com sucesso')    "
   ]
  },
  {
   "cell_type": "code",
   "execution_count": null,
   "id": "f40a831a",
   "metadata": {},
   "outputs": [],
   "source": []
  },
  {
   "cell_type": "code",
   "execution_count": null,
   "id": "31726679",
   "metadata": {},
   "outputs": [],
   "source": []
  }
 ],
 "metadata": {
  "kernelspec": {
   "display_name": "Python 3 (ipykernel)",
   "language": "python",
   "name": "python3"
  },
  "language_info": {
   "codemirror_mode": {
    "name": "ipython",
    "version": 3
   },
   "file_extension": ".py",
   "mimetype": "text/x-python",
   "name": "python",
   "nbconvert_exporter": "python",
   "pygments_lexer": "ipython3",
   "version": "3.11.5"
  }
 },
 "nbformat": 4,
 "nbformat_minor": 5
}
